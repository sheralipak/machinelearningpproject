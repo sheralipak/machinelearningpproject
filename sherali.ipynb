# Import libraries
import numpy as np
import matplotlib.pyplot as plt

# Define model names and error metrics
models = ["BiGRU", "LSTM", "SDAE-LSTM", "SDAE-GRU", "SDAE-BiGRU", "SDAE-BiLSTM", "Ensemble"]
rmse = [0.0633, 0.0629, 0.0646, 0.0655, 0.0629, 0.064, 0.0194]
mae = [0.0463, 0.0453, 0.0462, 0.0466, 0.0450, 0.0457, 0.0149]
mse = [0.0040, 0.0039, 0.0041, 0.0043, 0.0039, 0.0041, 0.0003]

# Set the width of the bars
width = 0.2

# Set the positions of the bars
x1 = np.arange(len(models))
x2 = [x + width for x in x1]
x3 = [x + width for x in x2]

#plt.figure(figsize=(10, 15))

# Plot the bars
plt.bar(x1, rmse, width=width, color="#0081a7", label="RMSE")
plt.bar(x2, mae, width=width, color="#e09f3e", label="MAE")
plt.bar(x3, mse, width=width, color="#e63946", label="MSE")

# Add labels and title
plt.xlabel("Machine Learning Models")
plt.ylabel("Evalution Measures")
plt.title("Comparative Analysis for cluster ID C0M1")
plt.xticks(x2, models, rotation=45)
#plt.xticks(x2, models)
plt.legend(loc="upper right", bbox_to_anchor=(1.25, 1))

# Show the plot
plt.show()
